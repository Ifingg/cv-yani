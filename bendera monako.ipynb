{
 "cells": [
  {
   "cell_type": "code",
   "execution_count": 2,
   "id": "f59461c2-35d0-42d3-bb37-d687f5557268",
   "metadata": {},
   "outputs": [],
   "source": [
    "import numpy as np\n",
    "import cv2\n",
    "\n",
    "# Ukuran bendera\n",
    "height = 300\n",
    "width = 450\n",
    "\n",
    "# Warna\n",
    "red = (0, 0, 255)      # Merah\n",
    "white = (255, 255, 255) # Putih\n",
    "\n",
    "# Membuat latar belakang putih (sebagai dasar)\n",
    "flag = np.zeros((height, width, 3), dtype=np.uint8)\n",
    "\n",
    "# Tinggi setiap garis horizontal\n",
    "stripe_height = height // 2\n",
    "\n",
    "# Menggambar garis horizontal merah di bagian atas\n",
    "flag[:stripe_height, :] = red\n",
    "\n",
    "# Menggambar garis horizontal putih di bagian bawah\n",
    "flag[stripe_height:, :] = white\n",
    "\n",
    "# Menampilkan bendera\n",
    "cv2.imshow(\"Bendera Monaco\", flag)\n",
    "cv2.waitKey(0)\n",
    "cv2.destroyAllWindows()"
   ]
  },
  {
   "cell_type": "code",
   "execution_count": null,
   "id": "6e73dc47-a75a-45ff-8dd7-264f369ee672",
   "metadata": {},
   "outputs": [],
   "source": []
  },
  {
   "cell_type": "code",
   "execution_count": null,
   "id": "3d1949d7-e684-450a-a20b-3628fc776145",
   "metadata": {},
   "outputs": [],
   "source": []
  }
 ],
 "metadata": {
  "kernelspec": {
   "display_name": "Python 3 (ipykernel)",
   "language": "python",
   "name": "python3"
  },
  "language_info": {
   "codemirror_mode": {
    "name": "ipython",
    "version": 3
   },
   "file_extension": ".py",
   "mimetype": "text/x-python",
   "name": "python",
   "nbconvert_exporter": "python",
   "pygments_lexer": "ipython3",
   "version": "3.13.2"
  }
 },
 "nbformat": 4,
 "nbformat_minor": 5
}
